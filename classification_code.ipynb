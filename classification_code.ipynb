{
 "cells": [
  {
   "cell_type": "code",
   "execution_count": 514,
   "metadata": {},
   "outputs": [],
   "source": [
    "import pandas as pd\n",
    "import numpy as np\n",
    "\n",
    "from sklearn.model_selection import train_test_split\n",
    "from sklearn.impute import SimpleImputer\n",
    "from sklearn.preprocessing import OneHotEncoder, OrdinalEncoder\n",
    "\n",
    "from sklearn.preprocessing import StandardScaler, MinMaxScaler\n",
    "\n",
    "from sklearn.pipeline import make_pipeline\n",
    "from sklearn.compose import ColumnTransformer\n",
    "from sklearn.model_selection import GridSearchCV\n",
    "\n",
    "from sklearn.tree import DecisionTreeClassifier\n",
    "from sklearn.neighbors import KNeighborsClassifier\n",
    "\n",
    "from sklearn.metrics import accuracy_score, classification_report, confusion_matrix, ConfusionMatrixDisplay\n",
    "\n",
    "from sklearn.base import BaseEstimator, TransformerMixin\n",
    "\n",
    "from sklearn.ensemble import RandomForestClassifier\n",
    "\n",
    "from sklearn import set_config\n",
    "import warnings \n",
    "warnings.filterwarnings(\"ignore\")\n",
    "# Set the config so that we can view our preprocessor, and to transform output from numpy arrays to pandas dataframes\n",
    "set_config(display=\"diagram\")\n",
    "set_config(transform_output=\"pandas\")"
   ]
  },
  {
   "cell_type": "code",
   "execution_count": 515,
   "metadata": {},
   "outputs": [
    {
     "name": "stdout",
     "output_type": "stream",
     "text": [
      "<class 'pandas.core.frame.DataFrame'>\n",
      "RangeIndex: 1460 entries, 0 to 1459\n",
      "Data columns (total 81 columns):\n",
      " #   Column         Non-Null Count  Dtype  \n",
      "---  ------         --------------  -----  \n",
      " 0   LotArea        1460 non-null   int64  \n",
      " 1   LotFrontage    1201 non-null   float64\n",
      " 2   TotalBsmtSF    1460 non-null   int64  \n",
      " 3   BedroomAbvGr   1460 non-null   int64  \n",
      " 4   Fireplaces     1460 non-null   int64  \n",
      " 5   PoolArea       1460 non-null   int64  \n",
      " 6   GarageCars     1460 non-null   int64  \n",
      " 7   WoodDeckSF     1460 non-null   int64  \n",
      " 8   ScreenPorch    1460 non-null   int64  \n",
      " 9   Expensive      1460 non-null   int64  \n",
      " 10  MSZoning       1460 non-null   object \n",
      " 11  Condition1     1460 non-null   object \n",
      " 12  Heating        1460 non-null   object \n",
      " 13  Street         1460 non-null   object \n",
      " 14  CentralAir     1460 non-null   object \n",
      " 15  Foundation     1460 non-null   object \n",
      " 16  ExterQual      1460 non-null   object \n",
      " 17  ExterCond      1460 non-null   object \n",
      " 18  BsmtQual       1423 non-null   object \n",
      " 19  BsmtCond       1423 non-null   object \n",
      " 20  BsmtExposure   1422 non-null   object \n",
      " 21  BsmtFinType1   1423 non-null   object \n",
      " 22  KitchenQual    1460 non-null   object \n",
      " 23  FireplaceQu    770 non-null    object \n",
      " 24  MSSubClass     1460 non-null   int64  \n",
      " 25  OverallQual    1460 non-null   int64  \n",
      " 26  OverallCond    1460 non-null   int64  \n",
      " 27  YearBuilt      1460 non-null   int64  \n",
      " 28  YearRemodAdd   1460 non-null   int64  \n",
      " 29  MasVnrArea     1452 non-null   float64\n",
      " 30  BsmtFinSF1     1460 non-null   int64  \n",
      " 31  BsmtFinSF2     1460 non-null   int64  \n",
      " 32  BsmtUnfSF      1460 non-null   int64  \n",
      " 33  1stFlrSF       1460 non-null   int64  \n",
      " 34  2ndFlrSF       1460 non-null   int64  \n",
      " 35  LowQualFinSF   1460 non-null   int64  \n",
      " 36  GrLivArea      1460 non-null   int64  \n",
      " 37  BsmtFullBath   1460 non-null   int64  \n",
      " 38  BsmtHalfBath   1460 non-null   int64  \n",
      " 39  FullBath       1460 non-null   int64  \n",
      " 40  HalfBath       1460 non-null   int64  \n",
      " 41  KitchenAbvGr   1460 non-null   int64  \n",
      " 42  TotRmsAbvGrd   1460 non-null   int64  \n",
      " 43  GarageYrBlt    1379 non-null   float64\n",
      " 44  GarageArea     1460 non-null   int64  \n",
      " 45  OpenPorchSF    1460 non-null   int64  \n",
      " 46  EnclosedPorch  1460 non-null   int64  \n",
      " 47  3SsnPorch      1460 non-null   int64  \n",
      " 48  MiscVal        1460 non-null   int64  \n",
      " 49  MoSold         1460 non-null   int64  \n",
      " 50  YrSold         1460 non-null   int64  \n",
      " 51  Id             1460 non-null   int64  \n",
      " 52  Alley          91 non-null     object \n",
      " 53  LotShape       1460 non-null   object \n",
      " 54  LandContour    1460 non-null   object \n",
      " 55  Utilities      1460 non-null   object \n",
      " 56  LotConfig      1460 non-null   object \n",
      " 57  LandSlope      1460 non-null   object \n",
      " 58  Neighborhood   1460 non-null   object \n",
      " 59  Condition2     1460 non-null   object \n",
      " 60  BldgType       1460 non-null   object \n",
      " 61  HouseStyle     1460 non-null   object \n",
      " 62  RoofStyle      1460 non-null   object \n",
      " 63  RoofMatl       1460 non-null   object \n",
      " 64  Exterior1st    1460 non-null   object \n",
      " 65  Exterior2nd    1460 non-null   object \n",
      " 66  MasVnrType     1452 non-null   object \n",
      " 67  BsmtFinType2   1422 non-null   object \n",
      " 68  HeatingQC      1460 non-null   object \n",
      " 69  Electrical     1459 non-null   object \n",
      " 70  Functional     1460 non-null   object \n",
      " 71  GarageType     1379 non-null   object \n",
      " 72  GarageFinish   1379 non-null   object \n",
      " 73  GarageQual     1379 non-null   object \n",
      " 74  GarageCond     1379 non-null   object \n",
      " 75  PavedDrive     1460 non-null   object \n",
      " 76  PoolQC         7 non-null      object \n",
      " 77  Fence          281 non-null    object \n",
      " 78  MiscFeature    54 non-null     object \n",
      " 79  SaleType       1460 non-null   object \n",
      " 80  SaleCondition  1460 non-null   object \n",
      "dtypes: float64(3), int64(35), object(43)\n",
      "memory usage: 924.0+ KB\n"
     ]
    }
   ],
   "source": [
    "df = pd.read_csv(\"data\\housing_iteration_5_classification.csv\")\n",
    "df.info()"
   ]
  },
  {
   "cell_type": "code",
   "execution_count": 516,
   "metadata": {},
   "outputs": [
    {
     "data": {
      "image/png": "[encoded data removed]",
      "text/plain": [
       "<Figure size 1000x600 with 1 Axes>"
      ]
     },
     "metadata": {},
     "output_type": "display_data"
    }
   ],
   "source": [
    "import matplotlib.pyplot as plt\n",
    "import seaborn as sns\n",
    "\n",
    "# Assuming df is your DataFrame\n",
    "# Check for missing values in each column\n",
    "missing_values = df.isnull()\n",
    "\n",
    "# Create a heatmap to visualize missing values\n",
    "plt.figure(figsize=(10, 6))\n",
    "sns.heatmap(missing_values, cbar=False, cmap='viridis')\n",
    "\n",
    "plt.title('Missing Values in DataFrame')\n",
    "plt.show()\n"
   ]
  },
  {
   "cell_type": "code",
   "execution_count": 517,
   "metadata": {},
   "outputs": [
    {
     "data": {
      "text/plain": [
       "(1460, 80)"
      ]
     },
     "execution_count": 517,
     "metadata": {},
     "output_type": "execute_result"
    }
   ],
   "source": [
    "df = df.set_index(\"Id\")\n",
    "df.shape"
   ]
  },
  {
   "cell_type": "code",
   "execution_count": 518,
   "metadata": {},
   "outputs": [
    {
     "name": "stdout",
     "output_type": "stream",
     "text": [
      "           Column  Missing Values\n",
      "0          PoolQC            1453\n",
      "1     MiscFeature            1406\n",
      "2           Alley            1369\n",
      "3           Fence            1179\n",
      "4     FireplaceQu             690\n",
      "..            ...             ...\n",
      "75   YearRemodAdd               0\n",
      "76      YearBuilt               0\n",
      "77    OverallCond               0\n",
      "78    OverallQual               0\n",
      "79  SaleCondition               0\n",
      "\n",
      "[80 rows x 2 columns]\n"
     ]
    }
   ],
   "source": [
    "# Create a DataFrame with missing values count for each column\n",
    "missing_values_count = df.isnull().sum().sort_values(ascending=False)\n",
    "missing_df = pd.DataFrame({'Column': missing_values_count.index, 'Missing Values': missing_values_count.values})\n",
    "\n",
    "# Display the DataFrame\n",
    "print(missing_df)"
   ]
  },
  {
   "cell_type": "code",
   "execution_count": 519,
   "metadata": {},
   "outputs": [
    {
     "data": {
      "text/html": [
       "<div>\n",
       "<style scoped>\n",
       "    .dataframe tbody tr th:only-of-type {\n",
       "        vertical-align: middle;\n",
       "    }\n",
       "\n",
       "    .dataframe tbody tr th {\n",
       "        vertical-align: top;\n",
       "    }\n",
       "\n",
       "    .dataframe thead th {\n",
       "        text-align: right;\n",
       "    }\n",
       "</style>\n",
       "<table border=\"1\" class=\"dataframe\">\n",
       "  <thead>\n",
       "    <tr style=\"text-align: right;\">\n",
       "      <th></th>\n",
       "      <th>Column</th>\n",
       "      <th>Missing Values</th>\n",
       "    </tr>\n",
       "  </thead>\n",
       "  <tbody>\n",
       "    <tr>\n",
       "      <th>56</th>\n",
       "      <td>GarageCars</td>\n",
       "      <td>0</td>\n",
       "    </tr>\n",
       "  </tbody>\n",
       "</table>\n",
       "</div>"
      ],
      "text/plain": [
       "        Column  Missing Values\n",
       "56  GarageCars               0"
      ]
     },
     "execution_count": 519,
     "metadata": {},
     "output_type": "execute_result"
    }
   ],
   "source": [
    "missing_df.loc[missing_df[\"Column\"]==\"GarageCars\"]"
   ]
  },
  {
   "cell_type": "code",
   "execution_count": 520,
   "metadata": {},
   "outputs": [],
   "source": [
    "df = df.drop([\"PoolQC\", \"MiscFeature\", \"Alley\", \"Fence\"], axis=1)"
   ]
  },
  {
   "cell_type": "code",
   "execution_count": 521,
   "metadata": {},
   "outputs": [
    {
     "data": {
      "text/html": [
       "<div>\n",
       "<style scoped>\n",
       "    .dataframe tbody tr th:only-of-type {\n",
       "        vertical-align: middle;\n",
       "    }\n",
       "\n",
       "    .dataframe tbody tr th {\n",
       "        vertical-align: top;\n",
       "    }\n",
       "\n",
       "    .dataframe thead th {\n",
       "        text-align: right;\n",
       "    }\n",
       "</style>\n",
       "<table border=\"1\" class=\"dataframe\">\n",
       "  <thead>\n",
       "    <tr style=\"text-align: right;\">\n",
       "      <th></th>\n",
       "      <th>LotArea</th>\n",
       "      <th>LotFrontage</th>\n",
       "      <th>TotalBsmtSF</th>\n",
       "      <th>BedroomAbvGr</th>\n",
       "      <th>Fireplaces</th>\n",
       "      <th>PoolArea</th>\n",
       "      <th>GarageCars</th>\n",
       "      <th>WoodDeckSF</th>\n",
       "      <th>ScreenPorch</th>\n",
       "      <th>Expensive</th>\n",
       "      <th>...</th>\n",
       "      <th>HeatingQC</th>\n",
       "      <th>Electrical</th>\n",
       "      <th>Functional</th>\n",
       "      <th>GarageType</th>\n",
       "      <th>GarageFinish</th>\n",
       "      <th>GarageQual</th>\n",
       "      <th>GarageCond</th>\n",
       "      <th>PavedDrive</th>\n",
       "      <th>SaleType</th>\n",
       "      <th>SaleCondition</th>\n",
       "    </tr>\n",
       "    <tr>\n",
       "      <th>Id</th>\n",
       "      <th></th>\n",
       "      <th></th>\n",
       "      <th></th>\n",
       "      <th></th>\n",
       "      <th></th>\n",
       "      <th></th>\n",
       "      <th></th>\n",
       "      <th></th>\n",
       "      <th></th>\n",
       "      <th></th>\n",
       "      <th></th>\n",
       "      <th></th>\n",
       "      <th></th>\n",
       "      <th></th>\n",
       "      <th></th>\n",
       "      <th></th>\n",
       "      <th></th>\n",
       "      <th></th>\n",
       "      <th></th>\n",
       "      <th></th>\n",
       "      <th></th>\n",
       "    </tr>\n",
       "  </thead>\n",
       "  <tbody>\n",
       "    <tr>\n",
       "      <th>1</th>\n",
       "      <td>8450</td>\n",
       "      <td>65.0</td>\n",
       "      <td>856</td>\n",
       "      <td>3</td>\n",
       "      <td>0</td>\n",
       "      <td>0</td>\n",
       "      <td>2</td>\n",
       "      <td>0</td>\n",
       "      <td>0</td>\n",
       "      <td>0</td>\n",
       "      <td>...</td>\n",
       "      <td>Ex</td>\n",
       "      <td>SBrkr</td>\n",
       "      <td>Typ</td>\n",
       "      <td>Attchd</td>\n",
       "      <td>RFn</td>\n",
       "      <td>TA</td>\n",
       "      <td>TA</td>\n",
       "      <td>Y</td>\n",
       "      <td>WD</td>\n",
       "      <td>Normal</td>\n",
       "    </tr>\n",
       "    <tr>\n",
       "      <th>2</th>\n",
       "      <td>9600</td>\n",
       "      <td>80.0</td>\n",
       "      <td>1262</td>\n",
       "      <td>3</td>\n",
       "      <td>1</td>\n",
       "      <td>0</td>\n",
       "      <td>2</td>\n",
       "      <td>298</td>\n",
       "      <td>0</td>\n",
       "      <td>0</td>\n",
       "      <td>...</td>\n",
       "      <td>Ex</td>\n",
       "      <td>SBrkr</td>\n",
       "      <td>Typ</td>\n",
       "      <td>Attchd</td>\n",
       "      <td>RFn</td>\n",
       "      <td>TA</td>\n",
       "      <td>TA</td>\n",
       "      <td>Y</td>\n",
       "      <td>WD</td>\n",
       "      <td>Normal</td>\n",
       "    </tr>\n",
       "    <tr>\n",
       "      <th>3</th>\n",
       "      <td>11250</td>\n",
       "      <td>68.0</td>\n",
       "      <td>920</td>\n",
       "      <td>3</td>\n",
       "      <td>1</td>\n",
       "      <td>0</td>\n",
       "      <td>2</td>\n",
       "      <td>0</td>\n",
       "      <td>0</td>\n",
       "      <td>0</td>\n",
       "      <td>...</td>\n",
       "      <td>Ex</td>\n",
       "      <td>SBrkr</td>\n",
       "      <td>Typ</td>\n",
       "      <td>Attchd</td>\n",
       "      <td>RFn</td>\n",
       "      <td>TA</td>\n",
       "      <td>TA</td>\n",
       "      <td>Y</td>\n",
       "      <td>WD</td>\n",
       "      <td>Normal</td>\n",
       "    </tr>\n",
       "  </tbody>\n",
       "</table>\n",
       "<p>3 rows × 76 columns</p>\n",
       "</div>"
      ],
      "text/plain": [
       "    LotArea  LotFrontage  TotalBsmtSF  BedroomAbvGr  Fireplaces  PoolArea  \\\n",
       "Id                                                                          \n",
       "1      8450         65.0          856             3           0         0   \n",
       "2      9600         80.0         1262             3           1         0   \n",
       "3     11250         68.0          920             3           1         0   \n",
       "\n",
       "    GarageCars  WoodDeckSF  ScreenPorch  Expensive  ... HeatingQC Electrical  \\\n",
       "Id                                                  ...                        \n",
       "1            2           0            0          0  ...        Ex      SBrkr   \n",
       "2            2         298            0          0  ...        Ex      SBrkr   \n",
       "3            2           0            0          0  ...        Ex      SBrkr   \n",
       "\n",
       "   Functional GarageType GarageFinish GarageQual GarageCond PavedDrive  \\\n",
       "Id                                                                       \n",
       "1         Typ     Attchd          RFn         TA         TA          Y   \n",
       "2         Typ     Attchd          RFn         TA         TA          Y   \n",
       "3         Typ     Attchd          RFn         TA         TA          Y   \n",
       "\n",
       "   SaleType SaleCondition  \n",
       "Id                         \n",
       "1        WD        Normal  \n",
       "2        WD        Normal  \n",
       "3        WD        Normal  \n",
       "\n",
       "[3 rows x 76 columns]"
      ]
     },
     "execution_count": 521,
     "metadata": {},
     "output_type": "execute_result"
    }
   ],
   "source": [
    "df.head(3)"
   ]
  },
  {
   "cell_type": "code",
   "execution_count": 522,
   "metadata": {},
   "outputs": [
    {
     "data": {
      "text/plain": [
       "Index(['LotArea', 'LotFrontage', 'TotalBsmtSF', 'BedroomAbvGr', 'Fireplaces',\n",
       "       'PoolArea', 'GarageCars', 'WoodDeckSF', 'ScreenPorch', 'Expensive',\n",
       "       'MSZoning', 'Condition1', 'Heating', 'Street', 'CentralAir',\n",
       "       'Foundation', 'ExterQual', 'ExterCond', 'BsmtQual', 'BsmtCond',\n",
       "       'BsmtExposure', 'BsmtFinType1', 'KitchenQual', 'FireplaceQu',\n",
       "       'MSSubClass', 'OverallQual', 'OverallCond', 'YearBuilt', 'YearRemodAdd',\n",
       "       'MasVnrArea', 'BsmtFinSF1', 'BsmtFinSF2', 'BsmtUnfSF', '1stFlrSF',\n",
       "       '2ndFlrSF', 'LowQualFinSF', 'GrLivArea', 'BsmtFullBath', 'BsmtHalfBath',\n",
       "       'FullBath', 'HalfBath', 'KitchenAbvGr', 'TotRmsAbvGrd', 'GarageYrBlt',\n",
       "       'GarageArea', 'OpenPorchSF', 'EnclosedPorch', '3SsnPorch', 'MiscVal',\n",
       "       'MoSold', 'YrSold', 'LotShape', 'LandContour', 'Utilities', 'LotConfig',\n",
       "       'LandSlope', 'Neighborhood', 'Condition2', 'BldgType', 'HouseStyle',\n",
       "       'RoofStyle', 'RoofMatl', 'Exterior1st', 'Exterior2nd', 'MasVnrType',\n",
       "       'BsmtFinType2', 'HeatingQC', 'Electrical', 'Functional', 'GarageType',\n",
       "       'GarageFinish', 'GarageQual', 'GarageCond', 'PavedDrive', 'SaleType',\n",
       "       'SaleCondition'],\n",
       "      dtype='object')"
      ]
     },
     "execution_count": 522,
     "metadata": {},
     "output_type": "execute_result"
    }
   ],
   "source": [
    "df.columns"
   ]
  },
  {
   "cell_type": "code",
   "execution_count": 523,
   "metadata": {},
   "outputs": [
    {
     "data": {
      "text/plain": [
       "Id\n",
       "1       SoldBetween05-15\n",
       "2       SoldBetween05-15\n",
       "3       SoldBetween05-15\n",
       "4       SoldBetween05-15\n",
       "5       SoldBetween05-15\n",
       "              ...       \n",
       "1456    SoldBetween05-15\n",
       "1457    SoldBetween05-15\n",
       "1458    SoldBetween05-15\n",
       "1459    SoldBetween05-15\n",
       "1460    SoldBetween05-15\n",
       "Name: YrSold, Length: 1460, dtype: object"
      ]
     },
     "execution_count": 523,
     "metadata": {},
     "output_type": "execute_result"
    }
   ],
   "source": [
    "# Assuming df is your DataFrame\n",
    "labels = ['SoldBefore05', 'SoldBetween05-15', 'SoldAfter15']\n",
    "\n",
    "# Define a custom function to assign categories based on the 'YrSold' values\n",
    "def categorize_year_sold(year_sold):\n",
    "    if year_sold < 2005:\n",
    "        return labels[0]\n",
    "    elif 2005 <= year_sold <= 2015:\n",
    "        return labels[1]\n",
    "    else:\n",
    "        return labels[2]\n",
    "\n",
    "# Apply the custom function to create the new categorical column\n",
    "df['YrSold'] = df['YrSold'].apply(categorize_year_sold)\n",
    "df['YrSold']"
   ]
  },
  {
   "cell_type": "code",
   "execution_count": 524,
   "metadata": {},
   "outputs": [],
   "source": [
    "# Define a custom function to assign seasons based on the 'MoSold' values\n",
    "def categorize_season(month_sold):\n",
    "    if month_sold in [12, 1, 2]:\n",
    "        return 'Winter'\n",
    "    elif month_sold in [3, 4, 5]:\n",
    "        return 'Spring'\n",
    "    elif month_sold in [6, 7, 8]:\n",
    "        return 'Summer'\n",
    "    else:\n",
    "        return 'Fall'\n",
    "\n",
    "# Apply the custom function to create the new categorical column\n",
    "df['MoSold'] = df['MoSold'].apply(categorize_season)"
   ]
  },
  {
   "cell_type": "code",
   "execution_count": 525,
   "metadata": {},
   "outputs": [
    {
     "name": "stdout",
     "output_type": "stream",
     "text": [
      "43 Index(['LotArea', 'LotFrontage', 'TotalBsmtSF', 'BedroomAbvGr', 'Fireplaces',\n",
      "       'GarageCars', 'WoodDeckSF', 'MSSubClass', 'OverallQual', 'YearBuilt',\n",
      "       'YearRemodAdd', 'MasVnrArea', 'BsmtFinSF1', 'BsmtUnfSF', '1stFlrSF',\n",
      "       '2ndFlrSF', 'GrLivArea', 'BsmtFullBath', 'FullBath', 'HalfBath',\n",
      "       'TotRmsAbvGrd', 'GarageYrBlt', 'GarageArea', 'OpenPorchSF',\n",
      "       'Foundation_PConc', 'ExterQual_Gd', 'ExterQual_TA', 'BsmtQual_Gd',\n",
      "       'BsmtExposure_Gd', 'BsmtExposure_No', 'BsmtFinType1_GLQ',\n",
      "       'KitchenQual_Gd', 'KitchenQual_TA', 'FireplaceQu_Gd', 'FireplaceQu_NaN',\n",
      "       'Neighborhood_NoRidge', 'Neighborhood_NridgHt', 'RoofStyle_Gable',\n",
      "       'RoofStyle_Hip', 'Exterior1st_CemntBd', 'Exterior2nd_CmentBd',\n",
      "       'GarageType_BuiltIn', 'SaleType_New'],\n",
      "      dtype='object')\n"
     ]
    }
   ],
   "source": [
    "from sklearn.feature_selection import SelectFromModel\n",
    "\n",
    "df_cat = df.select_dtypes(exclude=\"number\")\n",
    "df_cat = df_cat.fillna(value=\"NaN\")\n",
    "df_cat = pd.get_dummies(df_cat, drop_first=True)\n",
    "\n",
    "df_num = df.select_dtypes(include=\"number\")\n",
    "df_num = df_num.fillna(df_num.mean())\n",
    "\n",
    "data = pd.concat([df_num, df_cat], axis=1)\n",
    "X = data.drop(\"Expensive\", axis=1)\n",
    "y = data[\"Expensive\"]\n",
    "X_train,X_test,y_train,y_test = train_test_split(X,y, test_size=0.3)\n",
    "\n",
    "sel = SelectFromModel(RandomForestClassifier())\n",
    "sel.fit(X_train, y_train)\n",
    "selected_feat= X_train.columns[(sel.get_support())]\n",
    "\n",
    "print(len(selected_feat), selected_feat)\n",
    "selected_features = ['LotArea', 'LotFrontage', 'TotalBsmtSF', 'BedroomAbvGr', 'Fireplaces',\n",
    "                     'GarageCars', 'WoodDeckSF', 'MSSubClass', 'OverallQual', 'YearBuilt',\n",
    "                     'YearRemodAdd', 'MasVnrArea', 'BsmtFinSF1', 'BsmtUnfSF', '1stFlrSF',\n",
    "                     '2ndFlrSF', 'GrLivArea', 'BsmtFullBath', 'TotRmsAbvGrd', 'GarageYrBlt',\n",
    "                     'GarageArea', 'OpenPorchSF', 'Foundation', 'ExterQual', 'BsmtQual',\n",
    "                     'KitchenQual', 'FireplaceQu', 'Neighborhood', 'RoofStyle', 'MasVnrType', 'SaleType']\n",
    "\n",
    "df = df[selected_features + [\"Expensive\"]]"
   ]
  },
  {
   "cell_type": "code",
   "execution_count": 526,
   "metadata": {},
   "outputs": [
    {
     "data": {
      "text/plain": [
       "Index(['LotArea', 'LotFrontage', 'TotalBsmtSF', 'BedroomAbvGr', 'Fireplaces',\n",
       "       'GarageCars', 'WoodDeckSF', 'MSSubClass', 'OverallQual', 'YearBuilt',\n",
       "       'YearRemodAdd', 'MasVnrArea', 'BsmtFinSF1', 'BsmtUnfSF', '1stFlrSF',\n",
       "       '2ndFlrSF', 'GrLivArea', 'BsmtFullBath', 'FullBath', 'HalfBath',\n",
       "       'TotRmsAbvGrd', 'GarageYrBlt', 'GarageArea', 'OpenPorchSF',\n",
       "       'Foundation_PConc', 'ExterQual_Gd', 'ExterQual_TA', 'BsmtQual_Gd',\n",
       "       'BsmtExposure_Gd', 'BsmtExposure_No', 'BsmtFinType1_GLQ',\n",
       "       'KitchenQual_Gd', 'KitchenQual_TA', 'FireplaceQu_Gd', 'FireplaceQu_NaN',\n",
       "       'Neighborhood_NoRidge', 'Neighborhood_NridgHt', 'RoofStyle_Gable',\n",
       "       'RoofStyle_Hip', 'Exterior1st_CemntBd', 'Exterior2nd_CmentBd',\n",
       "       'GarageType_BuiltIn', 'SaleType_New'],\n",
       "      dtype='object')"
      ]
     },
     "execution_count": 526,
     "metadata": {},
     "output_type": "execute_result"
    }
   ],
   "source": [
    "selected_feat"
   ]
  },
  {
   "cell_type": "code",
   "execution_count": 527,
   "metadata": {},
   "outputs": [],
   "source": [
    "# Create train/test split\n",
    "X = df.drop([\"Expensive\"], axis=1)\n",
    "y = df[\"Expensive\"]\n",
    "X_train, X_test, y_train, y_test = train_test_split(X, y, test_size=0.1, random_state=101)"
   ]
  },
  {
   "cell_type": "code",
   "execution_count": 528,
   "metadata": {},
   "outputs": [
    {
     "name": "stdout",
     "output_type": "stream",
     "text": [
      "(1314, 31) (146, 31) (1314,) (146,)\n"
     ]
    }
   ],
   "source": [
    "print(X_train.shape, X_test.shape, y_train.shape, y_test.shape)"
   ]
  },
  {
   "cell_type": "code",
   "execution_count": 529,
   "metadata": {},
   "outputs": [],
   "source": [
    "# Divide columns by data_types\n",
    "X_train_cat = X_train.select_dtypes(exclude=\"number\")\n",
    "X_train_num = X_train.select_dtypes(include=\"number\")"
   ]
  },
  {
   "cell_type": "code",
   "execution_count": 530,
   "metadata": {},
   "outputs": [
    {
     "data": {
      "text/html": [
       "<div>\n",
       "<style scoped>\n",
       "    .dataframe tbody tr th:only-of-type {\n",
       "        vertical-align: middle;\n",
       "    }\n",
       "\n",
       "    .dataframe tbody tr th {\n",
       "        vertical-align: top;\n",
       "    }\n",
       "\n",
       "    .dataframe thead th {\n",
       "        text-align: right;\n",
       "    }\n",
       "</style>\n",
       "<table border=\"1\" class=\"dataframe\">\n",
       "  <thead>\n",
       "    <tr style=\"text-align: right;\">\n",
       "      <th></th>\n",
       "      <th>Foundation</th>\n",
       "      <th>ExterQual</th>\n",
       "      <th>BsmtQual</th>\n",
       "      <th>KitchenQual</th>\n",
       "      <th>FireplaceQu</th>\n",
       "      <th>Neighborhood</th>\n",
       "      <th>RoofStyle</th>\n",
       "      <th>MasVnrType</th>\n",
       "      <th>SaleType</th>\n",
       "    </tr>\n",
       "  </thead>\n",
       "  <tbody>\n",
       "    <tr>\n",
       "      <th>count</th>\n",
       "      <td>1314</td>\n",
       "      <td>1314</td>\n",
       "      <td>1283</td>\n",
       "      <td>1314</td>\n",
       "      <td>706</td>\n",
       "      <td>1314</td>\n",
       "      <td>1314</td>\n",
       "      <td>1306</td>\n",
       "      <td>1314</td>\n",
       "    </tr>\n",
       "    <tr>\n",
       "      <th>unique</th>\n",
       "      <td>6</td>\n",
       "      <td>4</td>\n",
       "      <td>4</td>\n",
       "      <td>4</td>\n",
       "      <td>5</td>\n",
       "      <td>25</td>\n",
       "      <td>6</td>\n",
       "      <td>4</td>\n",
       "      <td>9</td>\n",
       "    </tr>\n",
       "    <tr>\n",
       "      <th>top</th>\n",
       "      <td>PConc</td>\n",
       "      <td>TA</td>\n",
       "      <td>TA</td>\n",
       "      <td>TA</td>\n",
       "      <td>Gd</td>\n",
       "      <td>NAmes</td>\n",
       "      <td>Gable</td>\n",
       "      <td>None</td>\n",
       "      <td>WD</td>\n",
       "    </tr>\n",
       "    <tr>\n",
       "      <th>freq</th>\n",
       "      <td>581</td>\n",
       "      <td>810</td>\n",
       "      <td>587</td>\n",
       "      <td>656</td>\n",
       "      <td>350</td>\n",
       "      <td>198</td>\n",
       "      <td>1028</td>\n",
       "      <td>775</td>\n",
       "      <td>1139</td>\n",
       "    </tr>\n",
       "  </tbody>\n",
       "</table>\n",
       "</div>"
      ],
      "text/plain": [
       "       Foundation ExterQual BsmtQual KitchenQual FireplaceQu Neighborhood  \\\n",
       "count        1314      1314     1283        1314         706         1314   \n",
       "unique          6         4        4           4           5           25   \n",
       "top         PConc        TA       TA          TA          Gd        NAmes   \n",
       "freq          581       810      587         656         350          198   \n",
       "\n",
       "       RoofStyle MasVnrType SaleType  \n",
       "count       1314       1306     1314  \n",
       "unique         6          4        9  \n",
       "top        Gable       None       WD  \n",
       "freq        1028        775     1139  "
      ]
     },
     "execution_count": 530,
     "metadata": {},
     "output_type": "execute_result"
    }
   ],
   "source": [
    "X_train_cat.describe()"
   ]
  },
  {
   "cell_type": "code",
   "execution_count": 531,
   "metadata": {},
   "outputs": [
    {
     "data": {
      "text/html": [
       "<style>#sk-container-id-16 {color: black;}#sk-container-id-16 pre{padding: 0;}#sk-container-id-16 div.sk-toggleable {background-color: white;}#sk-container-id-16 label.sk-toggleable__label {cursor: pointer;display: block;width: 100%;margin-bottom: 0;padding: 0.3em;box-sizing: border-box;text-align: center;}#sk-container-id-16 label.sk-toggleable__label-arrow:before {content: \"▸\";float: left;margin-right: 0.25em;color: #696969;}#sk-container-id-16 label.sk-toggleable__label-arrow:hover:before {color: black;}#sk-container-id-16 div.sk-estimator:hover label.sk-toggleable__label-arrow:before {color: black;}#sk-container-id-16 div.sk-toggleable__content {max-height: 0;max-width: 0;overflow: hidden;text-align: left;background-color: #f0f8ff;}#sk-container-id-16 div.sk-toggleable__content pre {margin: 0.2em;color: black;border-radius: 0.25em;background-color: #f0f8ff;}#sk-container-id-16 input.sk-toggleable__control:checked~div.sk-toggleable__content {max-height: 200px;max-width: 100%;overflow: auto;}#sk-container-id-16 input.sk-toggleable__control:checked~label.sk-toggleable__label-arrow:before {content: \"▾\";}#sk-container-id-16 div.sk-estimator input.sk-toggleable__control:checked~label.sk-toggleable__label {background-color: #d4ebff;}#sk-container-id-16 div.sk-label input.sk-toggleable__control:checked~label.sk-toggleable__label {background-color: #d4ebff;}#sk-container-id-16 input.sk-hidden--visually {border: 0;clip: rect(1px 1px 1px 1px);clip: rect(1px, 1px, 1px, 1px);height: 1px;margin: -1px;overflow: hidden;padding: 0;position: absolute;width: 1px;}#sk-container-id-16 div.sk-estimator {font-family: monospace;background-color: #f0f8ff;border: 1px dotted black;border-radius: 0.25em;box-sizing: border-box;margin-bottom: 0.5em;}#sk-container-id-16 div.sk-estimator:hover {background-color: #d4ebff;}#sk-container-id-16 div.sk-parallel-item::after {content: \"\";width: 100%;border-bottom: 1px solid gray;flex-grow: 1;}#sk-container-id-16 div.sk-label:hover label.sk-toggleable__label {background-color: #d4ebff;}#sk-container-id-16 div.sk-serial::before {content: \"\";position: absolute;border-left: 1px solid gray;box-sizing: border-box;top: 0;bottom: 0;left: 50%;z-index: 0;}#sk-container-id-16 div.sk-serial {display: flex;flex-direction: column;align-items: center;background-color: white;padding-right: 0.2em;padding-left: 0.2em;position: relative;}#sk-container-id-16 div.sk-item {position: relative;z-index: 1;}#sk-container-id-16 div.sk-parallel {display: flex;align-items: stretch;justify-content: center;background-color: white;position: relative;}#sk-container-id-16 div.sk-item::before, #sk-container-id-16 div.sk-parallel-item::before {content: \"\";position: absolute;border-left: 1px solid gray;box-sizing: border-box;top: 0;bottom: 0;left: 50%;z-index: -1;}#sk-container-id-16 div.sk-parallel-item {display: flex;flex-direction: column;z-index: 1;position: relative;background-color: white;}#sk-container-id-16 div.sk-parallel-item:first-child::after {align-self: flex-end;width: 50%;}#sk-container-id-16 div.sk-parallel-item:last-child::after {align-self: flex-start;width: 50%;}#sk-container-id-16 div.sk-parallel-item:only-child::after {width: 0;}#sk-container-id-16 div.sk-dashed-wrapped {border: 1px dashed gray;margin: 0 0.4em 0.5em 0.4em;box-sizing: border-box;padding-bottom: 0.4em;background-color: white;}#sk-container-id-16 div.sk-label label {font-family: monospace;font-weight: bold;display: inline-block;line-height: 1.2em;}#sk-container-id-16 div.sk-label-container {text-align: center;}#sk-container-id-16 div.sk-container {/* jupyter's `normalize.less` sets `[hidden] { display: none; }` but bootstrap.min.css set `[hidden] { display: none !important; }` so we also need the `!important` here to be able to override the default hidden behavior on the sphinx rendered scikit-learn.org. See: https://github.com/scikit-learn/scikit-learn/issues/21755 */display: inline-block !important;position: relative;}#sk-container-id-16 div.sk-text-repr-fallback {display: none;}</style><div id=\"sk-container-id-16\" class=\"sk-top-container\"><div class=\"sk-text-repr-fallback\"><pre>ColumnTransformer(transformers=[(&#x27;num_pipe&#x27;,\n",
       "                                 Pipeline(steps=[(&#x27;simpleimputer&#x27;,\n",
       "                                                  SimpleImputer())]),\n",
       "                                 Index([&#x27;LotArea&#x27;, &#x27;LotFrontage&#x27;, &#x27;TotalBsmtSF&#x27;, &#x27;BedroomAbvGr&#x27;, &#x27;Fireplaces&#x27;,\n",
       "       &#x27;GarageCars&#x27;, &#x27;WoodDeckSF&#x27;, &#x27;MSSubClass&#x27;, &#x27;OverallQual&#x27;, &#x27;YearBuilt&#x27;,\n",
       "       &#x27;YearRemodAdd&#x27;, &#x27;MasVnrArea&#x27;, &#x27;BsmtFinSF1&#x27;, &#x27;BsmtUnfSF&#x27;, &#x27;1stFlrSF&#x27;,\n",
       "       &#x27;2ndFlrSF&#x27;, &#x27;GrLivArea&#x27;, &#x27;BsmtFullBath&#x27;, &#x27;TotRmsAbvGrd&#x27;...\n",
       "                                (&#x27;cat_pipe&#x27;,\n",
       "                                 Pipeline(steps=[(&#x27;simpleimputer&#x27;,\n",
       "                                                  SimpleImputer(fill_value=&#x27;NaN&#x27;,\n",
       "                                                                strategy=&#x27;constant&#x27;)),\n",
       "                                                 (&#x27;onehotencoder&#x27;,\n",
       "                                                  OneHotEncoder(handle_unknown=&#x27;infrequent_if_exist&#x27;,\n",
       "                                                                min_frequency=0.03,\n",
       "                                                                sparse_output=False))]),\n",
       "                                 Index([&#x27;Foundation&#x27;, &#x27;ExterQual&#x27;, &#x27;BsmtQual&#x27;, &#x27;KitchenQual&#x27;, &#x27;FireplaceQu&#x27;,\n",
       "       &#x27;Neighborhood&#x27;, &#x27;RoofStyle&#x27;, &#x27;MasVnrType&#x27;, &#x27;SaleType&#x27;],\n",
       "      dtype=&#x27;object&#x27;))])</pre><b>In a Jupyter environment, please rerun this cell to show the HTML representation or trust the notebook. <br />On GitHub, the HTML representation is unable to render, please try loading this page with nbviewer.org.</b></div><div class=\"sk-container\" hidden><div class=\"sk-item sk-dashed-wrapped\"><div class=\"sk-label-container\"><div class=\"sk-label sk-toggleable\"><input class=\"sk-toggleable__control sk-hidden--visually\" id=\"sk-estimator-id-91\" type=\"checkbox\" ><label for=\"sk-estimator-id-91\" class=\"sk-toggleable__label sk-toggleable__label-arrow\">ColumnTransformer</label><div class=\"sk-toggleable__content\"><pre>ColumnTransformer(transformers=[(&#x27;num_pipe&#x27;,\n",
       "                                 Pipeline(steps=[(&#x27;simpleimputer&#x27;,\n",
       "                                                  SimpleImputer())]),\n",
       "                                 Index([&#x27;LotArea&#x27;, &#x27;LotFrontage&#x27;, &#x27;TotalBsmtSF&#x27;, &#x27;BedroomAbvGr&#x27;, &#x27;Fireplaces&#x27;,\n",
       "       &#x27;GarageCars&#x27;, &#x27;WoodDeckSF&#x27;, &#x27;MSSubClass&#x27;, &#x27;OverallQual&#x27;, &#x27;YearBuilt&#x27;,\n",
       "       &#x27;YearRemodAdd&#x27;, &#x27;MasVnrArea&#x27;, &#x27;BsmtFinSF1&#x27;, &#x27;BsmtUnfSF&#x27;, &#x27;1stFlrSF&#x27;,\n",
       "       &#x27;2ndFlrSF&#x27;, &#x27;GrLivArea&#x27;, &#x27;BsmtFullBath&#x27;, &#x27;TotRmsAbvGrd&#x27;...\n",
       "                                (&#x27;cat_pipe&#x27;,\n",
       "                                 Pipeline(steps=[(&#x27;simpleimputer&#x27;,\n",
       "                                                  SimpleImputer(fill_value=&#x27;NaN&#x27;,\n",
       "                                                                strategy=&#x27;constant&#x27;)),\n",
       "                                                 (&#x27;onehotencoder&#x27;,\n",
       "                                                  OneHotEncoder(handle_unknown=&#x27;infrequent_if_exist&#x27;,\n",
       "                                                                min_frequency=0.03,\n",
       "                                                                sparse_output=False))]),\n",
       "                                 Index([&#x27;Foundation&#x27;, &#x27;ExterQual&#x27;, &#x27;BsmtQual&#x27;, &#x27;KitchenQual&#x27;, &#x27;FireplaceQu&#x27;,\n",
       "       &#x27;Neighborhood&#x27;, &#x27;RoofStyle&#x27;, &#x27;MasVnrType&#x27;, &#x27;SaleType&#x27;],\n",
       "      dtype=&#x27;object&#x27;))])</pre></div></div></div><div class=\"sk-parallel\"><div class=\"sk-parallel-item\"><div class=\"sk-item\"><div class=\"sk-label-container\"><div class=\"sk-label sk-toggleable\"><input class=\"sk-toggleable__control sk-hidden--visually\" id=\"sk-estimator-id-92\" type=\"checkbox\" ><label for=\"sk-estimator-id-92\" class=\"sk-toggleable__label sk-toggleable__label-arrow\">num_pipe</label><div class=\"sk-toggleable__content\"><pre>Index([&#x27;LotArea&#x27;, &#x27;LotFrontage&#x27;, &#x27;TotalBsmtSF&#x27;, &#x27;BedroomAbvGr&#x27;, &#x27;Fireplaces&#x27;,\n",
       "       &#x27;GarageCars&#x27;, &#x27;WoodDeckSF&#x27;, &#x27;MSSubClass&#x27;, &#x27;OverallQual&#x27;, &#x27;YearBuilt&#x27;,\n",
       "       &#x27;YearRemodAdd&#x27;, &#x27;MasVnrArea&#x27;, &#x27;BsmtFinSF1&#x27;, &#x27;BsmtUnfSF&#x27;, &#x27;1stFlrSF&#x27;,\n",
       "       &#x27;2ndFlrSF&#x27;, &#x27;GrLivArea&#x27;, &#x27;BsmtFullBath&#x27;, &#x27;TotRmsAbvGrd&#x27;, &#x27;GarageYrBlt&#x27;,\n",
       "       &#x27;GarageArea&#x27;, &#x27;OpenPorchSF&#x27;],\n",
       "      dtype=&#x27;object&#x27;)</pre></div></div></div><div class=\"sk-serial\"><div class=\"sk-item\"><div class=\"sk-serial\"><div class=\"sk-item\"><div class=\"sk-estimator sk-toggleable\"><input class=\"sk-toggleable__control sk-hidden--visually\" id=\"sk-estimator-id-93\" type=\"checkbox\" ><label for=\"sk-estimator-id-93\" class=\"sk-toggleable__label sk-toggleable__label-arrow\">SimpleImputer</label><div class=\"sk-toggleable__content\"><pre>SimpleImputer()</pre></div></div></div></div></div></div></div></div><div class=\"sk-parallel-item\"><div class=\"sk-item\"><div class=\"sk-label-container\"><div class=\"sk-label sk-toggleable\"><input class=\"sk-toggleable__control sk-hidden--visually\" id=\"sk-estimator-id-94\" type=\"checkbox\" ><label for=\"sk-estimator-id-94\" class=\"sk-toggleable__label sk-toggleable__label-arrow\">cat_pipe</label><div class=\"sk-toggleable__content\"><pre>Index([&#x27;Foundation&#x27;, &#x27;ExterQual&#x27;, &#x27;BsmtQual&#x27;, &#x27;KitchenQual&#x27;, &#x27;FireplaceQu&#x27;,\n",
       "       &#x27;Neighborhood&#x27;, &#x27;RoofStyle&#x27;, &#x27;MasVnrType&#x27;, &#x27;SaleType&#x27;],\n",
       "      dtype=&#x27;object&#x27;)</pre></div></div></div><div class=\"sk-serial\"><div class=\"sk-item\"><div class=\"sk-serial\"><div class=\"sk-item\"><div class=\"sk-estimator sk-toggleable\"><input class=\"sk-toggleable__control sk-hidden--visually\" id=\"sk-estimator-id-95\" type=\"checkbox\" ><label for=\"sk-estimator-id-95\" class=\"sk-toggleable__label sk-toggleable__label-arrow\">SimpleImputer</label><div class=\"sk-toggleable__content\"><pre>SimpleImputer(fill_value=&#x27;NaN&#x27;, strategy=&#x27;constant&#x27;)</pre></div></div></div><div class=\"sk-item\"><div class=\"sk-estimator sk-toggleable\"><input class=\"sk-toggleable__control sk-hidden--visually\" id=\"sk-estimator-id-96\" type=\"checkbox\" ><label for=\"sk-estimator-id-96\" class=\"sk-toggleable__label sk-toggleable__label-arrow\">OneHotEncoder</label><div class=\"sk-toggleable__content\"><pre>OneHotEncoder(handle_unknown=&#x27;infrequent_if_exist&#x27;, min_frequency=0.03,\n",
       "              sparse_output=False)</pre></div></div></div></div></div></div></div></div></div></div></div></div>"
      ],
      "text/plain": [
       "ColumnTransformer(transformers=[('num_pipe',\n",
       "                                 Pipeline(steps=[('simpleimputer',\n",
       "                                                  SimpleImputer())]),\n",
       "                                 Index(['LotArea', 'LotFrontage', 'TotalBsmtSF', 'BedroomAbvGr', 'Fireplaces',\n",
       "       'GarageCars', 'WoodDeckSF', 'MSSubClass', 'OverallQual', 'YearBuilt',\n",
       "       'YearRemodAdd', 'MasVnrArea', 'BsmtFinSF1', 'BsmtUnfSF', '1stFlrSF',\n",
       "       '2ndFlrSF', 'GrLivArea', 'BsmtFullBath', 'TotRmsAbvGrd'...\n",
       "                                ('cat_pipe',\n",
       "                                 Pipeline(steps=[('simpleimputer',\n",
       "                                                  SimpleImputer(fill_value='NaN',\n",
       "                                                                strategy='constant')),\n",
       "                                                 ('onehotencoder',\n",
       "                                                  OneHotEncoder(handle_unknown='infrequent_if_exist',\n",
       "                                                                min_frequency=0.03,\n",
       "                                                                sparse_output=False))]),\n",
       "                                 Index(['Foundation', 'ExterQual', 'BsmtQual', 'KitchenQual', 'FireplaceQu',\n",
       "       'Neighborhood', 'RoofStyle', 'MasVnrType', 'SaleType'],\n",
       "      dtype='object'))])"
      ]
     },
     "execution_count": 531,
     "metadata": {},
     "output_type": "execute_result"
    }
   ],
   "source": [
    "num_pipe = make_pipeline(SimpleImputer(strategy=\"mean\"))\n",
    "\n",
    "# # 3.3. categorical pipeline = \"N_A\" imputer + categorical encoder\n",
    "categorical_pipe = make_pipeline(SimpleImputer(strategy=\"constant\", fill_value=\"NaN\"),\n",
    "                                 OneHotEncoder(sparse_output=False,handle_unknown='infrequent_if_exist',min_frequency=0.03))\n",
    "\n",
    "full_preprocessing = ColumnTransformer(\n",
    "    transformers=[\n",
    "        (\"num_pipe\", num_pipe, X_train_num.columns),\n",
    "        (\"cat_pipe\", categorical_pipe, X_train_cat.columns),\n",
    "    ]\n",
    ")\n",
    "\n",
    "full_preprocessing"
   ]
  },
  {
   "cell_type": "markdown",
   "metadata": {},
   "source": [
    "# Remove outliers"
   ]
  },
  {
   "cell_type": "code",
   "execution_count": 532,
   "metadata": {},
   "outputs": [],
   "source": [
    "# Define IQRTransformer\n",
    "class IQRTransformer(BaseEstimator, TransformerMixin):\n",
    "    def __init__(self, multiplier=1.5):\n",
    "        self.multiplier = multiplier\n",
    "        self.num_outliers_removed = 0\n",
    "\n",
    "    def fit(self, X, y=None):\n",
    "        # Calculate the IQR for each feature\n",
    "        self.lower_bound = np.percentile(X, 25, axis=0) - self.multiplier * np.subtract(*np.percentile(X, [75, 25], axis=0))\n",
    "        self.upper_bound = np.percentile(X, 75, axis=0) + self.multiplier * np.subtract(*np.percentile(X, [75, 25], axis=0))\n",
    "        return self\n",
    "\n",
    "    def transform(self, X):\n",
    "        # Count the number of outliers removed\n",
    "        self.num_outliers_removed += np.sum((X < self.lower_bound) | (X > self.upper_bound))\n",
    "\n",
    "        # Apply the IQR bounds to each feature\n",
    "        X_transformed = np.clip(X, self.lower_bound, self.upper_bound)\n",
    "        return X_transformed"
   ]
  },
  {
   "cell_type": "code",
   "execution_count": 533,
   "metadata": {},
   "outputs": [
    {
     "name": "stdout",
     "output_type": "stream",
     "text": [
      "ColumnTransformer(transformers=[('num_pipe',\n",
      "                                 Pipeline(steps=[('simpleimputer',\n",
      "                                                  SimpleImputer())]),\n",
      "                                 Index(['LotArea', 'LotFrontage', 'TotalBsmtSF', 'BedroomAbvGr', 'Fireplaces',\n",
      "       'GarageCars', 'WoodDeckSF', 'MSSubClass', 'OverallQual', 'YearBuilt',\n",
      "       'YearRemodAdd', 'MasVnrArea', 'BsmtFinSF1', 'BsmtUnfSF', '1stFlrSF',\n",
      "       '2ndFlrSF', 'GrLivArea', 'BsmtFullBath', 'TotRmsAbvGrd'...\n",
      "                                ('cat_pipe',\n",
      "                                 Pipeline(steps=[('simpleimputer',\n",
      "                                                  SimpleImputer(fill_value='NaN',\n",
      "                                                                strategy='constant')),\n",
      "                                                 ('onehotencoder',\n",
      "                                                  OneHotEncoder(handle_unknown='infrequent_if_exist',\n",
      "                                                                min_frequency=0.03,\n",
      "                                                                sparse_output=False))]),\n",
      "                                 Index(['Foundation', 'ExterQual', 'BsmtQual', 'KitchenQual', 'FireplaceQu',\n",
      "       'Neighborhood', 'RoofStyle', 'MasVnrType', 'SaleType'],\n",
      "      dtype='object'))])\n",
      "['LotArea' 'LotFrontage' 'TotalBsmtSF' 'BedroomAbvGr' 'Fireplaces'\n",
      " 'GarageCars' 'WoodDeckSF' 'MSSubClass' 'OverallQual' 'YearBuilt'\n",
      " 'YearRemodAdd' 'MasVnrArea' 'BsmtFinSF1' 'BsmtUnfSF' '1stFlrSF'\n",
      " '2ndFlrSF' 'GrLivArea' 'BsmtFullBath' 'TotRmsAbvGrd' 'GarageYrBlt'\n",
      " 'GarageArea' 'OpenPorchSF']\n"
     ]
    }
   ],
   "source": [
    "full_pipeline_Dtree = make_pipeline(full_preprocessing,\n",
    "                                         IQRTransformer(),\n",
    "                                         StandardScaler(),\n",
    "                                         DecisionTreeClassifier())\n",
    "full_pipeline_Dtree.fit(X_train,y_train)\n",
    "print(full_pipeline_Dtree.named_steps.columntransformer)\n",
    "print(full_pipeline_Dtree.named_steps.columntransformer.named_transformers_[\"num_pipe\"].named_steps.simpleimputer.get_feature_names_out())"
   ]
  },
  {
   "cell_type": "markdown",
   "metadata": {},
   "source": [
    "### DecisionTreeClassifier"
   ]
  },
  {
   "cell_type": "code",
   "execution_count": 534,
   "metadata": {},
   "outputs": [
    {
     "name": "stdout",
     "output_type": "stream",
     "text": [
      "Fitting 5 folds for each of 1080 candidates, totalling 5400 fits\n"
     ]
    }
   ],
   "source": [
    "# Full pipeline: preprocessor + model\n",
    "full_pipeline_Dtree_iqr = make_pipeline(full_preprocessing,\n",
    "                                         IQRTransformer(),\n",
    "                                         StandardScaler(),\n",
    "                                         DecisionTreeClassifier())\n",
    "\n",
    "# Define parameter grid\n",
    "param_grid_iqr = {\n",
    "    \"columntransformer__num_pipe__simpleimputer__strategy\":[\"mean\", \"median\", \"most_frequent\"],\n",
    "    \"standardscaler__with_mean\":[True, False],\n",
    "    \"standardscaler__with_std\":[True, False],\n",
    "    \"decisiontreeclassifier__max_depth\": range(2, 14, 2),\n",
    "    \"decisiontreeclassifier__min_samples_leaf\": range(3, 12, 2),\n",
    "    \"decisiontreeclassifier__criterion\": [\"gini\", \"entropy\", \"log_loss\"],\n",
    "}\n",
    "\n",
    "# Define GridSearchCV\n",
    "search_dtree_iqr = GridSearchCV(full_pipeline_Dtree_iqr,\n",
    "                                param_grid_iqr,\n",
    "                                cv=5,\n",
    "                                verbose=1)\n",
    "\n",
    "search_dtree_iqr.fit(X_train, y_train)\n",
    "\n",
    "\n",
    "# Create a dictionary to store the best scores from the different models\n",
    "scores = {\"dtree_iqr\": search_dtree_iqr.best_score_}\n",
    "\n",
    "best_param = search_dtree_iqr.best_params_\n",
    "\n",
    "print(best_param, scores)\n",
    "\n",
    "# Test accuracy\n",
    "print(accuracy_score(search_dtree_iqr.predict(X_test), y_test))\n",
    "\n",
    "# Plot confusion matrix\n",
    "print(ConfusionMatrixDisplay.from_estimator(search_dtree_iqr,\n",
    "                                             X_test,\n",
    "                                             y_test,\n",
    "                                             display_labels=['Not Survived', 'Survived']))\n"
   ]
  },
  {
   "cell_type": "markdown",
   "metadata": {},
   "source": [
    "### KNNClassifier"
   ]
  },
  {
   "cell_type": "code",
   "execution_count": null,
   "metadata": {},
   "outputs": [
    {
     "name": "stdout",
     "output_type": "stream",
     "text": [
      "Fitting 5 folds for each of 576 candidates, totalling 2880 fits\n",
      "{'columntransformer__num_pipe__simpleimputer__strategy': 'mean', 'kneighborsclassifier__n_neighbors': 4, 'kneighborsclassifier__weights': 'distance', 'standardscaler__with_mean': True, 'standardscaler__with_std': True} {'dtree_iqr': 0.9398717092851129, 'knn_iqr': 0.9398775142948365}\n",
      "0.958904109589041\n",
      "<sklearn.metrics._plot.confusion_matrix.ConfusionMatrixDisplay object at 0x000002EF133970A0>\n"
     ]
    },
    {
     "data": {
      "image/png": "[encoded data removed]",
      "text/plain": [
       "<Figure size 640x480 with 2 Axes>"
      ]
     },
     "metadata": {},
     "output_type": "display_data"
    }
   ],
   "source": [
    "# Full pipeline: preprocessor + model\n",
    "full_pipeline_knn_iqr = make_pipeline(full_preprocessing,\n",
    "                                         IQRTransformer(),\n",
    "                                         StandardScaler(),\n",
    "                                         KNeighborsClassifier())\n",
    "\n",
    "# Define parameter grid\n",
    "param_grid_knn = {\n",
    "    \"columntransformer__num_pipe__simpleimputer__strategy\":[\"mean\", \"median\", \"most_frequent\"],\n",
    "    \"standardscaler__with_mean\":[True, False],\n",
    "    \"standardscaler__with_std\":[True, False],\n",
    "    \"kneighborsclassifier__n_neighbors\": range(2, 50, 2),\n",
    "    \"kneighborsclassifier__weights\": [\"uniform\", \"distance\"],\n",
    "}\n",
    "\n",
    "# Define GridSearchCV\n",
    "search_knn_iqr = GridSearchCV(full_pipeline_knn_iqr,\n",
    "                                param_grid_knn,\n",
    "                                cv=5,\n",
    "                                verbose=1)\n",
    "\n",
    "search_knn_iqr.fit(X_train, y_train)\n",
    "\n",
    "\n",
    "# Create a dictionary to store the best scores from the different models\n",
    "scores[\"knn_iqr\"]= search_knn_iqr.best_score_\n",
    "\n",
    "best_param = search_knn_iqr.best_params_\n",
    "\n",
    "print(best_param, scores)\n",
    "\n",
    "# Test accuracy\n",
    "print(accuracy_score(search_knn_iqr.predict(X_test), y_test))\n",
    "\n",
    "# Plot confusion matrix\n",
    "print(ConfusionMatrixDisplay.from_estimator(search_knn_iqr,\n",
    "                                             X_test,\n",
    "                                             y_test,\n",
    "                                             display_labels=['Not Survived', 'Survived']))"
   ]
  },
  {
   "cell_type": "markdown",
   "metadata": {},
   "source": [
    "### Logistic regression"
   ]
  },
  {
   "cell_type": "code",
   "execution_count": null,
   "metadata": {},
   "outputs": [
    {
     "name": "stdout",
     "output_type": "stream",
     "text": [
      "Fitting 5 folds for each of 96 candidates, totalling 480 fits\n",
      "{'columntransformer__num_pipe__simpleimputer__strategy': 'mean', 'logisticregression__C': 10, 'logisticregression__penalty': 'l1', 'standardscaler__with_mean': True, 'standardscaler__with_std': True} {'dtree_iqr': 0.9398717092851129, 'knn_iqr': 0.9398775142948365, 'lr_iqr': 0.9421443705918208}\n",
      "0.952054794520548\n",
      "<sklearn.metrics._plot.confusion_matrix.ConfusionMatrixDisplay object at 0x000002EF18E09DE0>\n"
     ]
    },
    {
     "data": {
      "image/png": "[encoded data removed]",
      "text/plain": [
       "<Figure size 640x480 with 2 Axes>"
      ]
     },
     "metadata": {},
     "output_type": "display_data"
    }
   ],
   "source": [
    "from sklearn.linear_model import LogisticRegression\n",
    "\n",
    "# Full pipeline: preprocessor + model\n",
    "full_pipeline_lr_iqr = make_pipeline(full_preprocessing,\n",
    "                                         IQRTransformer(),\n",
    "                                         StandardScaler(),\n",
    "                                         LogisticRegression(max_iter=1000, solver='saga', tol=0.1))\n",
    "\n",
    "# Define parameter grid\n",
    "param_grid_lr = {\n",
    "    \"columntransformer__num_pipe__simpleimputer__strategy\":[\"mean\", \"median\", \"most_frequent\"],\n",
    "    \"standardscaler__with_mean\":[True, False],\n",
    "    \"standardscaler__with_std\":[True, False],\n",
    "    'logisticregression__C': [0.1, 1, 10, 100],\n",
    "    'logisticregression__penalty': ['l1', 'l2']\n",
    "}\n",
    "\n",
    "# Define GridSearchCV\n",
    "search_lr = GridSearchCV(full_pipeline_lr_iqr,\n",
    "                                param_grid_lr,\n",
    "                                cv=5,\n",
    "                                verbose=1)\n",
    "\n",
    "search_lr.fit(X_train, y_train)\n",
    "\n",
    "\n",
    "# Create a dictionary to store the best scores from the different models\n",
    "scores[\"lr_iqr\"]= search_lr.best_score_\n",
    "\n",
    "best_param = search_lr.best_params_\n",
    "\n",
    "print(best_param, scores)\n",
    "\n",
    "# Test accuracy\n",
    "print(accuracy_score(search_lr.predict(X_test), y_test))\n",
    "\n",
    "# Plot confusion matrix\n",
    "print(ConfusionMatrixDisplay.from_estimator(search_lr,\n",
    "                                             X_test,\n",
    "                                             y_test,\n",
    "                                             display_labels=['Not Survived', 'Survived']))"
   ]
  },
  {
   "cell_type": "markdown",
   "metadata": {},
   "source": [
    "### RandomForestClassifier"
   ]
  },
  {
   "cell_type": "code",
   "execution_count": null,
   "metadata": {},
   "outputs": [
    {
     "name": "stdout",
     "output_type": "stream",
     "text": [
      "Fitting 5 folds for each of 336 candidates, totalling 1680 fits\n",
      "{'columntransformer__num_pipe__simpleimputer__strategy': 'most_frequent', 'randomforestclassifier__max_depth': 30, 'randomforestclassifier__max_features': 9, 'standardscaler__with_mean': True, 'standardscaler__with_std': False} {'dtree_iqr': 0.9398717092851129, 'knn_iqr': 0.9398775142948365, 'lr_iqr': 0.9421443705918208, 'rf_iqr': 0.9543348910109424, 'svc_iqr': 0.95660755231765}\n",
      "0.958904109589041\n",
      "<sklearn.metrics._plot.confusion_matrix.ConfusionMatrixDisplay object at 0x000002EF197B2170>\n"
     ]
    },
    {
     "data": {
      "image/png": "[encoded data removed]",
      "text/plain": [
       "<Figure size 640x480 with 2 Axes>"
      ]
     },
     "metadata": {},
     "output_type": "display_data"
    }
   ],
   "source": [
    "# Full pipeline: preprocessor + model\n",
    "full_pipeline_rf_iqr = make_pipeline(full_preprocessing,\n",
    "                                         IQRTransformer(),\n",
    "                                         StandardScaler(),\n",
    "                                         RandomForestClassifier())\n",
    "\n",
    "# Define parameter grid\n",
    "param_grid_rf = {\"columntransformer__num_pipe__simpleimputer__strategy\":[\"mean\", \"median\", \"most_frequent\"],\n",
    "                 \"standardscaler__with_mean\":[True, False],\n",
    "                 \"standardscaler__with_std\":[True, False],\n",
    "                 'randomforestclassifier__max_depth': list(range(15, 35, 5)), \n",
    "                 'randomforestclassifier__max_features': list(range(3,10))}\n",
    "\n",
    "\n",
    "# Define GridSearchCV\n",
    "search_rf = GridSearchCV(full_pipeline_rf_iqr,\n",
    "                                param_grid_rf,\n",
    "                                cv=5,\n",
    "                                verbose=1)\n",
    "\n",
    "search_rf.fit(X_train, y_train)\n",
    "\n",
    "\n",
    "# Create a dictionary to store the best scores from the different models\n",
    "scores[\"rf_iqr\"]= search_rf.best_score_\n",
    "\n",
    "best_param = search_rf.best_params_\n",
    "\n",
    "print(best_param, scores)\n",
    "\n",
    "# Test accuracy\n",
    "print(accuracy_score(search_rf.predict(X_test), y_test))\n",
    "\n",
    "# Plot confusion matrix\n",
    "print(ConfusionMatrixDisplay.from_estimator(search_rf,\n",
    "                                             X_test,\n",
    "                                             y_test,\n",
    "                                             display_labels=['Not Survived', 'Survived']))"
   ]
  },
  {
   "cell_type": "markdown",
   "metadata": {},
   "source": [
    "### SVC"
   ]
  },
  {
   "cell_type": "code",
   "execution_count": null,
   "metadata": {},
   "outputs": [
    {
     "name": "stdout",
     "output_type": "stream",
     "text": [
      "Fitting 5 folds for each of 300 candidates, totalling 1500 fits\n",
      "{'columntransformer__num_pipe__simpleimputer__strategy': 'median', 'standardscaler__with_mean': True, 'standardscaler__with_std': True, 'svc__C': 10, 'svc__gamma': 0.01, 'svc__kernel': 'rbf'}\n",
      "0.9452054794520548\n",
      "<sklearn.metrics._plot.confusion_matrix.ConfusionMatrixDisplay object at 0x000002EF22622800>\n"
     ]
    },
    {
     "data": {
      "image/png": "[encoded data removed]",
      "text/plain": [
       "<Figure size 640x480 with 2 Axes>"
      ]
     },
     "metadata": {},
     "output_type": "display_data"
    }
   ],
   "source": [
    "from sklearn.svm import SVC\n",
    "\n",
    "# Full pipeline: preprocessor + model\n",
    "full_pipeline_svc_iqr = make_pipeline(full_preprocessing,\n",
    "                                         IQRTransformer(),\n",
    "                                         StandardScaler(),\n",
    "                                         SVC())\n",
    "\n",
    "# Define parameter grid\n",
    "param_grid_svc = {\"columntransformer__num_pipe__simpleimputer__strategy\":[\"mean\", \"median\", \"most_frequent\"],\n",
    "                 \"standardscaler__with_mean\":[True, False],\n",
    "                 \"standardscaler__with_std\":[True, False],\n",
    "                  'svc__C': [0.1, 1, 10, 100, 1000],  \n",
    "                  'svc__gamma': [1, 0.1, 0.01, 0.001, 0.0001], \n",
    "                  'svc__kernel': ['rbf']}  \n",
    "\n",
    "# Define GridSearchCV\n",
    "search_svc = GridSearchCV(full_pipeline_svc_iqr,\n",
    "                                param_grid_svc,\n",
    "                                cv=5,\n",
    "                                verbose=1)\n",
    "\n",
    "search_svc.fit(X_train, y_train)\n",
    "\n",
    "\n",
    "# Create a dictionary to store the best scores from the different models\n",
    "scores[\"svc_iqr\"]= search_svc.best_score_\n",
    "\n",
    "best_param = search_svc.best_params_\n",
    "\n",
    "print(best_param)\n",
    "\n",
    "# Test accuracy\n",
    "print(accuracy_score(search_svc.predict(X_test), y_test))\n",
    "\n",
    "# Plot confusion matrix\n",
    "print(ConfusionMatrixDisplay.from_estimator(search_svc,\n",
    "                                             X_test,\n",
    "                                             y_test,\n",
    "                                             display_labels=['Not Survived', 'Survived']))"
   ]
  },
  {
   "cell_type": "code",
   "execution_count": null,
   "metadata": {},
   "outputs": [
    {
     "data": {
      "text/plain": [
       "{'dtree_iqr': 0.9398717092851129,\n",
       " 'knn_iqr': 0.9398775142948365,\n",
       " 'lr_iqr': 0.9421443705918208,\n",
       " 'rf_iqr': 0.956616259832235,\n",
       " 'svc_iqr': 0.95660755231765}"
      ]
     },
     "execution_count": 493,
     "metadata": {},
     "output_type": "execute_result"
    }
   ],
   "source": [
    "scores"
   ]
  },
  {
   "cell_type": "markdown",
   "metadata": {},
   "source": [
    "{'dtree_iqr': 0.9426323319027181,\n",
    " 'knn_iqr': 0.9426323319027181,\n",
    " 'lr_iqr': 0.9563222185539783,\n",
    " 'rf_iqr': 0.9546128168445766,\n",
    " 'svc_iqr': 0.9537691207219104}"
   ]
  },
  {
   "cell_type": "markdown",
   "metadata": {},
   "source": [
    "### Submit the best model to the competition"
   ]
  },
  {
   "cell_type": "code",
   "execution_count": null,
   "metadata": {},
   "outputs": [],
   "source": [
    "#loading the new test data for the competition\n",
    "url = \"https://drive.google.com/file/d/1HMsEK5Kq7CcGFz7_GyQyI4ziEr3iAu8x/view?usp=drive_link\"\n",
    "path = 'https://drive.google.com/uc?export=download&id='+url.split('/')[-2]\n",
    "competition_test = pd.read_csv(path)"
   ]
  },
  {
   "cell_type": "code",
   "execution_count": null,
   "metadata": {},
   "outputs": [],
   "source": [
    "Id = competition_test.pop(\"Id\")\n",
    "\n",
    "competition_test = competition_test.drop([\"PoolQC\", \"MiscFeature\", \"Alley\", \"Fence\"], axis=1)\n",
    "\n",
    "# Assuming df is your DataFrame\n",
    "labels = ['SoldBefore05', 'SoldBetween05-15', 'SoldAfter15']\n",
    "\n",
    "# Define a custom function to assign categories based on the 'YrSold' values\n",
    "def categorize_year_sold(year_sold):\n",
    "    if year_sold < 2005:\n",
    "        return labels[0]\n",
    "    elif 2005 <= year_sold <= 2015:\n",
    "        return labels[1]\n",
    "    else:\n",
    "        return labels[2]\n",
    "\n",
    "# Apply the custom function to create the new categorical column\n",
    "competition_test['YrSold'] = competition_test['YrSold'].apply(categorize_year_sold)\n",
    "\n",
    "\n",
    "# Define a custom function to assign seasons based on the 'MoSold' values\n",
    "def categorize_season(month_sold):\n",
    "    if month_sold in [12, 1, 2]:\n",
    "        return 'Winter'\n",
    "    elif month_sold in [3, 4, 5]:\n",
    "        return 'Spring'\n",
    "    elif month_sold in [6, 7, 8]:\n",
    "        return 'Summer'\n",
    "    else:\n",
    "        return 'Fall'\n",
    "\n",
    "# Apply the custom function to create the new categorical column\n",
    "competition_test['MoSold'] = competition_test['MoSold'].apply(categorize_season)\n",
    "\n",
    "# Restrict the columns\n",
    "competition_test = competition_test[selected_features]"
   ]
  },
  {
   "cell_type": "code",
   "execution_count": null,
   "metadata": {},
   "outputs": [],
   "source": [
    "# make predictions with the brand new (unlabelled) dataset for the competition!\n",
    "submission_prediction = search_rf.predict(competition_test)\n",
    "submission_prediction = list(submission_prediction)\n",
    "\n",
    "# Create the Dataframe for the submission. It must contain two columns: \"Id\" and \"Expensive\"\n",
    "submission_df = pd.DataFrame()\n",
    "submission_df['Id'] = Id\n",
    "submission_df['Expensive'] = submission_prediction\n",
    "\n",
    "# create the csv for the competition and download it\n",
    "submission_df.to_csv(\"classification_1.csv\", index=False)"
   ]
  },
  {
   "cell_type": "code",
   "execution_count": null,
   "metadata": {},
   "outputs": [],
   "source": [
    "# make predictions with the brand new (unlabelled) dataset for the competition!\n",
    "submission_prediction = search_lr.predict(competition_test)\n",
    "submission_prediction = list(submission_prediction)\n",
    "\n",
    "# Create the Dataframe for the submission. It must contain two columns: \"Id\" and \"Expensive\"\n",
    "submission_df = pd.DataFrame()\n",
    "submission_df['Id'] = Id\n",
    "submission_df['Expensive'] = submission_prediction\n",
    "\n",
    "# create the csv for the competition and download it\n",
    "submission_df.to_csv(\"classification_2.csv\", index=False)"
   ]
  },
  {
   "cell_type": "code",
   "execution_count": null,
   "metadata": {},
   "outputs": [],
   "source": [
    "# make predictions with the brand new (unlabelled) dataset for the competition!\n",
    "submission_prediction = search_svc.predict(competition_test)\n",
    "submission_prediction = list(submission_prediction)\n",
    "\n",
    "# Create the Dataframe for the submission. It must contain two columns: \"Id\" and \"Expensive\"\n",
    "submission_df = pd.DataFrame()\n",
    "submission_df['Id'] = Id\n",
    "submission_df['Expensive'] = submission_prediction\n",
    "\n",
    "# create the csv for the competition and download it\n",
    "submission_df.to_csv(\"classification_3.csv\", index=False)"
   ]
  },
  {
   "cell_type": "code",
   "execution_count": null,
   "metadata": {},
   "outputs": [],
   "source": [
    "# make predictions with the brand new (unlabelled) dataset for the competition!\n",
    "submission_prediction = search_svc.predict(competition_test)\n",
    "submission_prediction = list(submission_prediction)\n",
    "\n",
    "# Create the Dataframe for the submission. It must contain two columns: \"Id\" and \"Expensive\"\n",
    "submission_df = pd.DataFrame()\n",
    "submission_df['Id'] = Id\n",
    "submission_df['Expensive'] = submission_prediction\n",
    "\n",
    "# create the csv for the competition and download it\n",
    "submission_df.to_csv(\"classification_3.csv\", index=False)"
   ]
  },
  {
   "cell_type": "code",
   "execution_count": null,
   "metadata": {},
   "outputs": [],
   "source": []
  }
 ],
 "metadata": {
  "kernelspec": {
   "display_name": "wbs_env",
   "language": "python",
   "name": "python3"
  },
  "language_info": {
   "codemirror_mode": {
    "name": "ipython",
    "version": 3
   },
   "file_extension": ".py",
   "mimetype": "text/x-python",
   "name": "python",
   "nbconvert_exporter": "python",
   "pygments_lexer": "ipython3",
   "version": "3.10.0"
  }
 },
 "nbformat": 4,
 "nbformat_minor": 2
}
